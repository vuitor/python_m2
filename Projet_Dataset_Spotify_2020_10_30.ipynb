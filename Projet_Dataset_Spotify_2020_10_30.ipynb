{
  "nbformat": 4,
  "nbformat_minor": 0,
  "metadata": {
    "colab": {
      "name": "Projet_Dataset_Spotify_2020_10_30.ipynb",
      "provenance": [],
      "collapsed_sections": []
    },
    "kernelspec": {
      "name": "python3",
      "display_name": "Python 3"
    }
  },
  "cells": [
    {
      "cell_type": "code",
      "metadata": {
        "id": "Urp3r0NjIChC"
      },
      "source": [
        "# Victor\n",
        "# Projet pour Evaluation ML\n",
        "# Dataset utilisé : Spotify\n",
        "# Source : https://www.kaggle.com/yamaerenay/spotify-dataset-19212020-160k-tracks"
      ],
      "execution_count": null,
      "outputs": []
    },
    {
      "cell_type": "markdown",
      "metadata": {
        "id": "XcLpQt77RisM"
      },
      "source": [
        "# Imports et chargement des datasets"
      ]
    },
    {
      "cell_type": "code",
      "metadata": {
        "id": "TCfZnt2QVope"
      },
      "source": [
        "import seaborn as sns\n",
        "import pandas as pd\n",
        "\n",
        "from sklearn.ensemble import RandomForestClassifier as RF\n",
        "from sklearn.model_selection import train_test_split\n",
        "from sklearn.preprocessing import StandardScaler\n",
        "from sklearn import preprocessing\n",
        "from sklearn import metrics\n",
        "\n",
        "sns.set\n",
        "\n",
        "labelencoder = preprocessing.LabelEncoder()\n",
        "\n",
        "# Chargement des datasets\n",
        "a = pd.read_csv(r\"/content/.csv\")\n",
        "b = pd.read_csv(r\"/content/.csv\")\n",
        "a_df = a\n",
        "b_df = b"
      ],
      "execution_count": null,
      "outputs": []
    }
  ]
}