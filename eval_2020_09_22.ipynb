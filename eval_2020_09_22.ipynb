{
 "cells": [
  {
   "cell_type": "markdown",
   "metadata": {},
   "source": [
    "## Consignes évaluation M2 Machine Learning"
   ]
  },
  {
   "cell_type": "code",
   "execution_count": 1,
   "metadata": {},
   "outputs": [],
   "source": [
    "# Utilisation d'un dataset sur les lieux de tournage dans la ville de Paris\n",
    "# Faire une note de synthèse seule, noté sur 20.\n",
    "# Partie oral: 10 min présentation + 10 min questions\n",
    "\n",
    "# Partie écrite:\n",
    "# Consignes minimales pour avoir au moins 10\n",
    "# Un jupyter-notebook avec :\n",
    "    #- Un graphique avec données continues\n",
    "    #- Un graphique avec données discrètes\n",
    "    #- Au moins 2 graphiques avec des données catégoriques\n",
    "    #- Une boite à moustache avec filtrage de données abérantes sur notre dataset\n",
    "    #- Une HeatMap avec une matrice de corrélation\n",
    "    #- Commentaires pertinents par graphique\n",
    "    #- Une veille sur un Algo de ML de notre choix (modifié)"
   ]
  },
  {
   "cell_type": "markdown",
   "metadata": {},
   "source": [
    "## Installation des librairies"
   ]
  },
  {
   "cell_type": "code",
   "execution_count": 2,
   "metadata": {},
   "outputs": [
    {
     "name": "stdout",
     "output_type": "stream",
     "text": [
      "Requirement already satisfied: numpy in /Library/Frameworks/Python.framework/Versions/3.8/lib/python3.8/site-packages (1.18.2)\n",
      "Requirement already satisfied: seaborn in /Library/Frameworks/Python.framework/Versions/3.8/lib/python3.8/site-packages (0.10.0)\n",
      "Requirement already satisfied: pandas in /Library/Frameworks/Python.framework/Versions/3.8/lib/python3.8/site-packages (1.0.3)\n",
      "Requirement already satisfied: matplotlib in /Library/Frameworks/Python.framework/Versions/3.8/lib/python3.8/site-packages (3.2.1)\n",
      "Requirement already satisfied: scipy>=1.0.1 in /Library/Frameworks/Python.framework/Versions/3.8/lib/python3.8/site-packages (from seaborn) (1.4.1)\n",
      "Requirement already satisfied: python-dateutil>=2.6.1 in /Library/Frameworks/Python.framework/Versions/3.8/lib/python3.8/site-packages (from pandas) (2.8.1)\n",
      "Requirement already satisfied: pytz>=2017.2 in /Library/Frameworks/Python.framework/Versions/3.8/lib/python3.8/site-packages (from pandas) (2019.3)\n",
      "Requirement already satisfied: kiwisolver>=1.0.1 in /Library/Frameworks/Python.framework/Versions/3.8/lib/python3.8/site-packages (from matplotlib) (1.1.0)\n",
      "Requirement already satisfied: cycler>=0.10 in /Library/Frameworks/Python.framework/Versions/3.8/lib/python3.8/site-packages (from matplotlib) (0.10.0)\n",
      "Requirement already satisfied: pyparsing!=2.0.4,!=2.1.2,!=2.1.6,>=2.0.1 in /Library/Frameworks/Python.framework/Versions/3.8/lib/python3.8/site-packages (from matplotlib) (2.4.6)\n",
      "Requirement already satisfied: six>=1.5 in /Library/Frameworks/Python.framework/Versions/3.8/lib/python3.8/site-packages (from python-dateutil>=2.6.1->pandas) (1.14.0)\n",
      "Requirement already satisfied: setuptools in /Library/Frameworks/Python.framework/Versions/3.8/lib/python3.8/site-packages (from kiwisolver>=1.0.1->matplotlib) (41.2.0)\n",
      "Note: you may need to restart the kernel to use updated packages.\n"
     ]
    }
   ],
   "source": [
    "pip install numpy seaborn pandas matplotlib"
   ]
  },
  {
   "cell_type": "code",
   "execution_count": 3,
   "metadata": {},
   "outputs": [],
   "source": [
    "import numpy as np\n",
    "import pandas as pd\n",
    "import matplotlib as mpl\n",
    "import seaborn as sns"
   ]
  },
  {
   "cell_type": "code",
   "execution_count": 6,
   "metadata": {},
   "outputs": [
    {
     "ename": "ParserError",
     "evalue": "Error tokenizing data. C error: Expected 5 fields in line 10, saw 6\n",
     "output_type": "error",
     "traceback": [
      "\u001b[0;31m---------------------------------------------------------------------------\u001b[0m",
      "\u001b[0;31mParserError\u001b[0m                               Traceback (most recent call last)",
      "\u001b[0;32m<ipython-input-6-b1c05e0d253d>\u001b[0m in \u001b[0;36m<module>\u001b[0;34m\u001b[0m\n\u001b[0;32m----> 1\u001b[0;31m \u001b[0mdf\u001b[0m \u001b[0;34m=\u001b[0m \u001b[0mpd\u001b[0m\u001b[0;34m.\u001b[0m\u001b[0mread_csv\u001b[0m\u001b[0;34m(\u001b[0m\u001b[0;34m'./data/lieux_tournage_paris.csv'\u001b[0m\u001b[0;34m)\u001b[0m\u001b[0;34m\u001b[0m\u001b[0;34m\u001b[0m\u001b[0m\n\u001b[0m\u001b[1;32m      2\u001b[0m \u001b[0mprint\u001b[0m\u001b[0;34m(\u001b[0m\u001b[0mdf\u001b[0m\u001b[0;34m.\u001b[0m\u001b[0mdtypes\u001b[0m\u001b[0;34m)\u001b[0m\u001b[0;34m\u001b[0m\u001b[0;34m\u001b[0m\u001b[0m\n",
      "\u001b[0;32m/Library/Frameworks/Python.framework/Versions/3.8/lib/python3.8/site-packages/pandas/io/parsers.py\u001b[0m in \u001b[0;36mparser_f\u001b[0;34m(filepath_or_buffer, sep, delimiter, header, names, index_col, usecols, squeeze, prefix, mangle_dupe_cols, dtype, engine, converters, true_values, false_values, skipinitialspace, skiprows, skipfooter, nrows, na_values, keep_default_na, na_filter, verbose, skip_blank_lines, parse_dates, infer_datetime_format, keep_date_col, date_parser, dayfirst, cache_dates, iterator, chunksize, compression, thousands, decimal, lineterminator, quotechar, quoting, doublequote, escapechar, comment, encoding, dialect, error_bad_lines, warn_bad_lines, delim_whitespace, low_memory, memory_map, float_precision)\u001b[0m\n\u001b[1;32m    674\u001b[0m         )\n\u001b[1;32m    675\u001b[0m \u001b[0;34m\u001b[0m\u001b[0m\n\u001b[0;32m--> 676\u001b[0;31m         \u001b[0;32mreturn\u001b[0m \u001b[0m_read\u001b[0m\u001b[0;34m(\u001b[0m\u001b[0mfilepath_or_buffer\u001b[0m\u001b[0;34m,\u001b[0m \u001b[0mkwds\u001b[0m\u001b[0;34m)\u001b[0m\u001b[0;34m\u001b[0m\u001b[0;34m\u001b[0m\u001b[0m\n\u001b[0m\u001b[1;32m    677\u001b[0m \u001b[0;34m\u001b[0m\u001b[0m\n\u001b[1;32m    678\u001b[0m     \u001b[0mparser_f\u001b[0m\u001b[0;34m.\u001b[0m\u001b[0m__name__\u001b[0m \u001b[0;34m=\u001b[0m \u001b[0mname\u001b[0m\u001b[0;34m\u001b[0m\u001b[0;34m\u001b[0m\u001b[0m\n",
      "\u001b[0;32m/Library/Frameworks/Python.framework/Versions/3.8/lib/python3.8/site-packages/pandas/io/parsers.py\u001b[0m in \u001b[0;36m_read\u001b[0;34m(filepath_or_buffer, kwds)\u001b[0m\n\u001b[1;32m    452\u001b[0m \u001b[0;34m\u001b[0m\u001b[0m\n\u001b[1;32m    453\u001b[0m     \u001b[0;32mtry\u001b[0m\u001b[0;34m:\u001b[0m\u001b[0;34m\u001b[0m\u001b[0;34m\u001b[0m\u001b[0m\n\u001b[0;32m--> 454\u001b[0;31m         \u001b[0mdata\u001b[0m \u001b[0;34m=\u001b[0m \u001b[0mparser\u001b[0m\u001b[0;34m.\u001b[0m\u001b[0mread\u001b[0m\u001b[0;34m(\u001b[0m\u001b[0mnrows\u001b[0m\u001b[0;34m)\u001b[0m\u001b[0;34m\u001b[0m\u001b[0;34m\u001b[0m\u001b[0m\n\u001b[0m\u001b[1;32m    455\u001b[0m     \u001b[0;32mfinally\u001b[0m\u001b[0;34m:\u001b[0m\u001b[0;34m\u001b[0m\u001b[0;34m\u001b[0m\u001b[0m\n\u001b[1;32m    456\u001b[0m         \u001b[0mparser\u001b[0m\u001b[0;34m.\u001b[0m\u001b[0mclose\u001b[0m\u001b[0;34m(\u001b[0m\u001b[0;34m)\u001b[0m\u001b[0;34m\u001b[0m\u001b[0;34m\u001b[0m\u001b[0m\n",
      "\u001b[0;32m/Library/Frameworks/Python.framework/Versions/3.8/lib/python3.8/site-packages/pandas/io/parsers.py\u001b[0m in \u001b[0;36mread\u001b[0;34m(self, nrows)\u001b[0m\n\u001b[1;32m   1131\u001b[0m     \u001b[0;32mdef\u001b[0m \u001b[0mread\u001b[0m\u001b[0;34m(\u001b[0m\u001b[0mself\u001b[0m\u001b[0;34m,\u001b[0m \u001b[0mnrows\u001b[0m\u001b[0;34m=\u001b[0m\u001b[0;32mNone\u001b[0m\u001b[0;34m)\u001b[0m\u001b[0;34m:\u001b[0m\u001b[0;34m\u001b[0m\u001b[0;34m\u001b[0m\u001b[0m\n\u001b[1;32m   1132\u001b[0m         \u001b[0mnrows\u001b[0m \u001b[0;34m=\u001b[0m \u001b[0m_validate_integer\u001b[0m\u001b[0;34m(\u001b[0m\u001b[0;34m\"nrows\"\u001b[0m\u001b[0;34m,\u001b[0m \u001b[0mnrows\u001b[0m\u001b[0;34m)\u001b[0m\u001b[0;34m\u001b[0m\u001b[0;34m\u001b[0m\u001b[0m\n\u001b[0;32m-> 1133\u001b[0;31m         \u001b[0mret\u001b[0m \u001b[0;34m=\u001b[0m \u001b[0mself\u001b[0m\u001b[0;34m.\u001b[0m\u001b[0m_engine\u001b[0m\u001b[0;34m.\u001b[0m\u001b[0mread\u001b[0m\u001b[0;34m(\u001b[0m\u001b[0mnrows\u001b[0m\u001b[0;34m)\u001b[0m\u001b[0;34m\u001b[0m\u001b[0;34m\u001b[0m\u001b[0m\n\u001b[0m\u001b[1;32m   1134\u001b[0m \u001b[0;34m\u001b[0m\u001b[0m\n\u001b[1;32m   1135\u001b[0m         \u001b[0;31m# May alter columns / col_dict\u001b[0m\u001b[0;34m\u001b[0m\u001b[0;34m\u001b[0m\u001b[0;34m\u001b[0m\u001b[0m\n",
      "\u001b[0;32m/Library/Frameworks/Python.framework/Versions/3.8/lib/python3.8/site-packages/pandas/io/parsers.py\u001b[0m in \u001b[0;36mread\u001b[0;34m(self, nrows)\u001b[0m\n\u001b[1;32m   2035\u001b[0m     \u001b[0;32mdef\u001b[0m \u001b[0mread\u001b[0m\u001b[0;34m(\u001b[0m\u001b[0mself\u001b[0m\u001b[0;34m,\u001b[0m \u001b[0mnrows\u001b[0m\u001b[0;34m=\u001b[0m\u001b[0;32mNone\u001b[0m\u001b[0;34m)\u001b[0m\u001b[0;34m:\u001b[0m\u001b[0;34m\u001b[0m\u001b[0;34m\u001b[0m\u001b[0m\n\u001b[1;32m   2036\u001b[0m         \u001b[0;32mtry\u001b[0m\u001b[0;34m:\u001b[0m\u001b[0;34m\u001b[0m\u001b[0;34m\u001b[0m\u001b[0m\n\u001b[0;32m-> 2037\u001b[0;31m             \u001b[0mdata\u001b[0m \u001b[0;34m=\u001b[0m \u001b[0mself\u001b[0m\u001b[0;34m.\u001b[0m\u001b[0m_reader\u001b[0m\u001b[0;34m.\u001b[0m\u001b[0mread\u001b[0m\u001b[0;34m(\u001b[0m\u001b[0mnrows\u001b[0m\u001b[0;34m)\u001b[0m\u001b[0;34m\u001b[0m\u001b[0;34m\u001b[0m\u001b[0m\n\u001b[0m\u001b[1;32m   2038\u001b[0m         \u001b[0;32mexcept\u001b[0m \u001b[0mStopIteration\u001b[0m\u001b[0;34m:\u001b[0m\u001b[0;34m\u001b[0m\u001b[0;34m\u001b[0m\u001b[0m\n\u001b[1;32m   2039\u001b[0m             \u001b[0;32mif\u001b[0m \u001b[0mself\u001b[0m\u001b[0;34m.\u001b[0m\u001b[0m_first_chunk\u001b[0m\u001b[0;34m:\u001b[0m\u001b[0;34m\u001b[0m\u001b[0;34m\u001b[0m\u001b[0m\n",
      "\u001b[0;32mpandas/_libs/parsers.pyx\u001b[0m in \u001b[0;36mpandas._libs.parsers.TextReader.read\u001b[0;34m()\u001b[0m\n",
      "\u001b[0;32mpandas/_libs/parsers.pyx\u001b[0m in \u001b[0;36mpandas._libs.parsers.TextReader._read_low_memory\u001b[0;34m()\u001b[0m\n",
      "\u001b[0;32mpandas/_libs/parsers.pyx\u001b[0m in \u001b[0;36mpandas._libs.parsers.TextReader._read_rows\u001b[0;34m()\u001b[0m\n",
      "\u001b[0;32mpandas/_libs/parsers.pyx\u001b[0m in \u001b[0;36mpandas._libs.parsers.TextReader._tokenize_rows\u001b[0;34m()\u001b[0m\n",
      "\u001b[0;32mpandas/_libs/parsers.pyx\u001b[0m in \u001b[0;36mpandas._libs.parsers.raise_parser_error\u001b[0;34m()\u001b[0m\n",
      "\u001b[0;31mParserError\u001b[0m: Error tokenizing data. C error: Expected 5 fields in line 10, saw 6\n"
     ]
    }
   ],
   "source": [
    "df = pd.read_csv('./data/lieux_tournage_paris.csv')\n",
    "print(df.dtypes)"
   ]
  },
  {
   "cell_type": "code",
   "execution_count": 5,
   "metadata": {},
   "outputs": [
    {
     "name": "stdout",
     "output_type": "stream",
     "text": [
      "Identifiant du lieu;Année du tournage;Type de tournage;Titre;Réalisateur;Producteur;Localisation de la scène;Code postal;Date de début;Date de fin;Coordonnée en X;Coordonnée en Y;geo_shape;geo_point_2d    float64\n",
      "dtype: object\n"
     ]
    },
    {
     "name": "stderr",
     "output_type": "stream",
     "text": [
      "b'Skipping line 10: expected 5 fields, saw 6\\nSkipping line 13: expected 5 fields, saw 6\\nSkipping line 15: expected 5 fields, saw 7\\nSkipping line 32: expected 5 fields, saw 8\\nSkipping line 65: expected 5 fields, saw 6\\nSkipping line 94: expected 5 fields, saw 6\\nSkipping line 99: expected 5 fields, saw 6\\nSkipping line 116: expected 5 fields, saw 6\\nSkipping line 167: expected 5 fields, saw 6\\nSkipping line 225: expected 5 fields, saw 6\\nSkipping line 226: expected 5 fields, saw 6\\nSkipping line 227: expected 5 fields, saw 6\\nSkipping line 228: expected 5 fields, saw 6\\nSkipping line 385: expected 5 fields, saw 6\\nSkipping line 457: expected 5 fields, saw 8\\nSkipping line 575: expected 5 fields, saw 6\\nSkipping line 601: expected 5 fields, saw 6\\nSkipping line 640: expected 5 fields, saw 6\\nSkipping line 712: expected 5 fields, saw 6\\nSkipping line 815: expected 5 fields, saw 6\\nSkipping line 817: expected 5 fields, saw 6\\nSkipping line 831: expected 5 fields, saw 6\\nSkipping line 839: expected 5 fields, saw 7\\nSkipping line 855: expected 5 fields, saw 8\\nSkipping line 1021: expected 5 fields, saw 6\\nSkipping line 1028: expected 5 fields, saw 6\\nSkipping line 1031: expected 5 fields, saw 6\\nSkipping line 1063: expected 5 fields, saw 6\\nSkipping line 1109: expected 5 fields, saw 6\\nSkipping line 1133: expected 5 fields, saw 6\\nSkipping line 1135: expected 5 fields, saw 6\\nSkipping line 1191: expected 5 fields, saw 6\\nSkipping line 1199: expected 5 fields, saw 6\\nSkipping line 1206: expected 5 fields, saw 6\\nSkipping line 1223: expected 5 fields, saw 7\\nSkipping line 1234: expected 5 fields, saw 6\\nSkipping line 1335: expected 5 fields, saw 6\\nSkipping line 1342: expected 5 fields, saw 6\\nSkipping line 1382: expected 5 fields, saw 6\\nSkipping line 1384: expected 5 fields, saw 6\\nSkipping line 1385: expected 5 fields, saw 6\\nSkipping line 1488: expected 5 fields, saw 6\\nSkipping line 1536: expected 5 fields, saw 7\\nSkipping line 1537: expected 5 fields, saw 6\\nSkipping line 1538: expected 5 fields, saw 6\\nSkipping line 1577: expected 5 fields, saw 6\\nSkipping line 1579: expected 5 fields, saw 6\\nSkipping line 1588: expected 5 fields, saw 6\\nSkipping line 1638: expected 5 fields, saw 6\\nSkipping line 1642: expected 5 fields, saw 7\\nSkipping line 1697: expected 5 fields, saw 6\\nSkipping line 1795: expected 5 fields, saw 7\\nSkipping line 1936: expected 5 fields, saw 6\\nSkipping line 1978: expected 5 fields, saw 6\\nSkipping line 1982: expected 5 fields, saw 6\\nSkipping line 2018: expected 5 fields, saw 7\\nSkipping line 2024: expected 5 fields, saw 8\\nSkipping line 2032: expected 5 fields, saw 6\\nSkipping line 2039: expected 5 fields, saw 6\\nSkipping line 2063: expected 5 fields, saw 6\\nSkipping line 2068: expected 5 fields, saw 6\\nSkipping line 2072: expected 5 fields, saw 6\\nSkipping line 2169: expected 5 fields, saw 6\\nSkipping line 2178: expected 5 fields, saw 6\\nSkipping line 2179: expected 5 fields, saw 6\\nSkipping line 2398: expected 5 fields, saw 7\\nSkipping line 2411: expected 5 fields, saw 6\\nSkipping line 2412: expected 5 fields, saw 8\\nSkipping line 2432: expected 5 fields, saw 7\\nSkipping line 2441: expected 5 fields, saw 6\\nSkipping line 2471: expected 5 fields, saw 6\\nSkipping line 2472: expected 5 fields, saw 6\\nSkipping line 2477: expected 5 fields, saw 6\\nSkipping line 2524: expected 5 fields, saw 6\\nSkipping line 2563: expected 5 fields, saw 6\\nSkipping line 2576: expected 5 fields, saw 6\\nSkipping line 2590: expected 5 fields, saw 6\\nSkipping line 2737: expected 5 fields, saw 6\\nSkipping line 2749: expected 5 fields, saw 6\\nSkipping line 2755: expected 5 fields, saw 6\\nSkipping line 2765: expected 5 fields, saw 6\\nSkipping line 2781: expected 5 fields, saw 7\\nSkipping line 2793: expected 5 fields, saw 6\\nSkipping line 2813: expected 5 fields, saw 6\\nSkipping line 2860: expected 5 fields, saw 7\\nSkipping line 2861: expected 5 fields, saw 7\\nSkipping line 2954: expected 5 fields, saw 6\\nSkipping line 2955: expected 5 fields, saw 6\\nSkipping line 2960: expected 5 fields, saw 6\\nSkipping line 3121: expected 5 fields, saw 6\\nSkipping line 3129: expected 5 fields, saw 6\\nSkipping line 3150: expected 5 fields, saw 6\\nSkipping line 3163: expected 5 fields, saw 8\\nSkipping line 3193: expected 5 fields, saw 7\\nSkipping line 3204: expected 5 fields, saw 6\\nSkipping line 3209: expected 5 fields, saw 6\\nSkipping line 3237: expected 5 fields, saw 7\\nSkipping line 3270: expected 5 fields, saw 6\\nSkipping line 3349: expected 5 fields, saw 6\\nSkipping line 3350: expected 5 fields, saw 6\\nSkipping line 3358: expected 5 fields, saw 6\\nSkipping line 3463: expected 5 fields, saw 6\\nSkipping line 3505: expected 5 fields, saw 6\\nSkipping line 3535: expected 5 fields, saw 6\\nSkipping line 3572: expected 5 fields, saw 6\\nSkipping line 3574: expected 5 fields, saw 6\\nSkipping line 3597: expected 5 fields, saw 7\\nSkipping line 3602: expected 5 fields, saw 8\\nSkipping line 3612: expected 5 fields, saw 6\\nSkipping line 3613: expected 5 fields, saw 7\\nSkipping line 3634: expected 5 fields, saw 6\\nSkipping line 3737: expected 5 fields, saw 6\\nSkipping line 3841: expected 5 fields, saw 6\\nSkipping line 3889: expected 5 fields, saw 6\\nSkipping line 3900: expected 5 fields, saw 6\\nSkipping line 3925: expected 5 fields, saw 8\\nSkipping line 3967: expected 5 fields, saw 6\\nSkipping line 3968: expected 5 fields, saw 6\\nSkipping line 4096: expected 5 fields, saw 6\\nSkipping line 4128: expected 5 fields, saw 8\\nSkipping line 4194: expected 5 fields, saw 6\\nSkipping line 4200: expected 5 fields, saw 6\\nSkipping line 4244: expected 5 fields, saw 7\\nSkipping line 4360: expected 5 fields, saw 6\\nSkipping line 4432: expected 5 fields, saw 6\\nSkipping line 4440: expected 5 fields, saw 6\\nSkipping line 4479: expected 5 fields, saw 6\\nSkipping line 4610: expected 5 fields, saw 7\\nSkipping line 4701: expected 5 fields, saw 6\\nSkipping line 4749: expected 5 fields, saw 7\\nSkipping line 4757: expected 5 fields, saw 6\\nSkipping line 4787: expected 5 fields, saw 6\\nSkipping line 4836: expected 5 fields, saw 6\\nSkipping line 4837: expected 5 fields, saw 6\\nSkipping line 4960: expected 5 fields, saw 6\\nSkipping line 4961: expected 5 fields, saw 6\\nSkipping line 4984: expected 5 fields, saw 7\\nSkipping line 5017: expected 5 fields, saw 6\\nSkipping line 5031: expected 5 fields, saw 6\\nSkipping line 5041: expected 5 fields, saw 8\\nSkipping line 5064: expected 5 fields, saw 6\\nSkipping line 5130: expected 5 fields, saw 7\\nSkipping line 5184: expected 5 fields, saw 6\\nSkipping line 5205: expected 5 fields, saw 6\\nSkipping line 5440: expected 5 fields, saw 7\\nSkipping line 5455: expected 5 fields, saw 6\\nSkipping line 5463: expected 5 fields, saw 8\\nSkipping line 5575: expected 5 fields, saw 6\\nSkipping line 5581: expected 5 fields, saw 6\\nSkipping line 5755: expected 5 fields, saw 6\\nSkipping line 5762: expected 5 fields, saw 6\\nSkipping line 5775: expected 5 fields, saw 6\\nSkipping line 5791: expected 5 fields, saw 8\\nSkipping line 5815: expected 5 fields, saw 6\\nSkipping line 5823: expected 5 fields, saw 6\\nSkipping line 5876: expected 5 fields, saw 6\\nSkipping line 6017: expected 5 fields, saw 6\\nSkipping line 6021: expected 5 fields, saw 6\\nSkipping line 6140: expected 5 fields, saw 7\\nSkipping line 6154: expected 5 fields, saw 6\\nSkipping line 6174: expected 5 fields, saw 6\\nSkipping line 6231: expected 5 fields, saw 7\\nSkipping line 6246: expected 5 fields, saw 6\\nSkipping line 6252: expected 5 fields, saw 6\\nSkipping line 6311: expected 5 fields, saw 6\\nSkipping line 6359: expected 5 fields, saw 6\\nSkipping line 6377: expected 5 fields, saw 6\\nSkipping line 6559: expected 5 fields, saw 6\\nSkipping line 6560: expected 5 fields, saw 6\\nSkipping line 6573: expected 5 fields, saw 6\\nSkipping line 6598: expected 5 fields, saw 6\\nSkipping line 6611: expected 5 fields, saw 7\\nSkipping line 6647: expected 5 fields, saw 6\\nSkipping line 6666: expected 5 fields, saw 6\\nSkipping line 6680: expected 5 fields, saw 6\\nSkipping line 6681: expected 5 fields, saw 6\\nSkipping line 6750: expected 5 fields, saw 6\\nSkipping line 6915: expected 5 fields, saw 6\\nSkipping line 6916: expected 5 fields, saw 6\\nSkipping line 6935: expected 5 fields, saw 6\\nSkipping line 6950: expected 5 fields, saw 6\\nSkipping line 7044: expected 5 fields, saw 6\\nSkipping line 7071: expected 5 fields, saw 6\\nSkipping line 7123: expected 5 fields, saw 6\\nSkipping line 7168: expected 5 fields, saw 6\\nSkipping line 7169: expected 5 fields, saw 6\\nSkipping line 7172: expected 5 fields, saw 6\\nSkipping line 7173: expected 5 fields, saw 6\\nSkipping line 7205: expected 5 fields, saw 6\\nSkipping line 7317: expected 5 fields, saw 7\\nSkipping line 7318: expected 5 fields, saw 6\\nSkipping line 7342: expected 5 fields, saw 6\\nSkipping line 7352: expected 5 fields, saw 6\\nSkipping line 7375: expected 5 fields, saw 8\\nSkipping line 7377: expected 5 fields, saw 6\\nSkipping line 7397: expected 5 fields, saw 8\\nSkipping line 7408: expected 5 fields, saw 6\\nSkipping line 7466: expected 5 fields, saw 8\\nSkipping line 7506: expected 5 fields, saw 6\\nSkipping line 7560: expected 5 fields, saw 6\\nSkipping line 7581: expected 5 fields, saw 9\\nSkipping line 7591: expected 5 fields, saw 6\\nSkipping line 7592: expected 5 fields, saw 6\\nSkipping line 7734: expected 5 fields, saw 6\\nSkipping line 7741: expected 5 fields, saw 6\\n'\n"
     ]
    }
   ],
   "source": [
    "df = pd.read_csv('./data/lieux_tournage_paris.csv', error_bad_lines=False)\n",
    "print(df.dtypes)"
   ]
  },
  {
   "cell_type": "code",
   "execution_count": null,
   "metadata": {},
   "outputs": [],
   "source": []
  }
 ],
 "metadata": {
  "kernelspec": {
   "display_name": "Python 3",
   "language": "python",
   "name": "python3"
  },
  "language_info": {
   "codemirror_mode": {
    "name": "ipython",
    "version": 3
   },
   "file_extension": ".py",
   "mimetype": "text/x-python",
   "name": "python",
   "nbconvert_exporter": "python",
   "pygments_lexer": "ipython3",
   "version": "3.8.2"
  }
 },
 "nbformat": 4,
 "nbformat_minor": 4
}
